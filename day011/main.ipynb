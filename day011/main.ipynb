{
 "cells": [
  {
   "cell_type": "code",
   "execution_count": 4,
   "metadata": {},
   "outputs": [
    {
     "name": "stdout",
     "output_type": "stream",
     "text": [
      "Range object: range(0, 10, 2)\n",
      "Range as list: [0, 2, 4, 6, 8]\n"
     ]
    }
   ],
   "source": [
    "# 1. Range: It creates an immutable sequence of numbers, useful for loop iterations.\n",
    "r = range(0, 10, 2)  # Even numbers from 0 up to (but not including) 10\n",
    "print(\"Range object:\", r)\n",
    "print(\"Range as list:\", list(r))"
   ]
  },
  {
   "cell_type": "code",
   "execution_count": 5,
   "metadata": {},
   "outputs": [
    {
     "name": "stdout",
     "output_type": "stream",
     "text": [
      "\n",
      "Original list: [0, 2, 4, 6, 8]\n",
      "List after appending 10: [0, 2, 4, 6, 8, 10]\n"
     ]
    }
   ],
   "source": [
    "# 2. List: A mutable sequence type; elements can be changed or appended.\n",
    "l = list(r)\n",
    "print(\"\\nOriginal list:\", l)\n",
    "l.append(10)  # Modifying the list by appending a new element\n",
    "print(\"List after appending 10:\", l)"
   ]
  },
  {
   "cell_type": "code",
   "execution_count": 6,
   "metadata": {},
   "outputs": [
    {
     "name": "stdout",
     "output_type": "stream",
     "text": [
      "\n",
      "Original tuple: (0, 2, 4, 6, 8)\n",
      "'tuple' object does not support item assignment\n",
      "New tuple after 'modification': (100, 2, 4, 6, 8)\n"
     ]
    }
   ],
   "source": [
    "# 3. Tuple: An immutable sequence type; elements cannot be changed.\n",
    "t = tuple(r)\n",
    "print(\"\\nOriginal tuple:\", t)\n",
    "try:\n",
    "    t[0] = 100  # Attempting to modify a tuple element will raise an error\n",
    "except TypeError as e:\n",
    "    print(e)\n",
    "\n",
    "# Although tuples are immutable, you can create a new one based on an old one.\n",
    "new_t = (100,) + t[1:]\n",
    "print(\"New tuple after 'modification':\", new_t)"
   ]
  }
 ],
 "metadata": {
  "kernelspec": {
   "display_name": "Python 3",
   "language": "python",
   "name": "python3"
  },
  "language_info": {
   "codemirror_mode": {
    "name": "ipython",
    "version": 3
   },
   "file_extension": ".py",
   "mimetype": "text/x-python",
   "name": "python",
   "nbconvert_exporter": "python",
   "pygments_lexer": "ipython3",
   "version": "3.13.2"
  }
 },
 "nbformat": 4,
 "nbformat_minor": 2
}
