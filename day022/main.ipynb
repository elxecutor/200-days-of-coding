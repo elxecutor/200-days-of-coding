{
 "cells": [
  {
   "cell_type": "code",
   "execution_count": 2,
   "metadata": {},
   "outputs": [],
   "source": [
    "def make_coffee(water_level, coffee_beans):\n",
    "    try:\n",
    "        # Check if there's enough water.\n",
    "        if water_level < 150:\n",
    "            raise ValueError(\"Not enough water to make coffee.\")\n",
    "        \n",
    "        # Check if there are enough coffee beans.\n",
    "        if coffee_beans < 20:\n",
    "            raise ValueError(\"Not enough coffee beans.\")\n",
    "        \n",
    "        # Simulate coffee making.\n",
    "        coffee = \"Your coffee is ready!\"\n",
    "        return coffee\n",
    "\n",
    "    except ValueError as error:\n",
    "        return f\"Error: {error}\"\n",
    "\n",
    "    finally:\n",
    "        print(\"Coffee machine checked and cleaned up.\")\n"
   ]
  },
  {
   "cell_type": "code",
   "execution_count": 4,
   "metadata": {},
   "outputs": [
    {
     "name": "stdout",
     "output_type": "stream",
     "text": [
      "Coffee machine checked and cleaned up.\n",
      "Your coffee is ready!\n"
     ]
    }
   ],
   "source": [
    "# Test case 1\n",
    "print(make_coffee(200, 25))  # Sufficient resources."
   ]
  },
  {
   "cell_type": "code",
   "execution_count": 5,
   "metadata": {},
   "outputs": [
    {
     "name": "stdout",
     "output_type": "stream",
     "text": [
      "Coffee machine checked and cleaned up.\n",
      "Error: Not enough water to make coffee.\n"
     ]
    }
   ],
   "source": [
    "# Test case 2\n",
    "print(make_coffee(100, 25))  # Not enough water."
   ]
  },
  {
   "cell_type": "code",
   "execution_count": 6,
   "metadata": {},
   "outputs": [
    {
     "name": "stdout",
     "output_type": "stream",
     "text": [
      "Coffee machine checked and cleaned up.\n",
      "Error: Not enough coffee beans.\n"
     ]
    }
   ],
   "source": [
    "# Test case 3\n",
    "print(make_coffee(200, 10))  # Not enough coffee beans."
   ]
  }
 ],
 "metadata": {
  "kernelspec": {
   "display_name": "Python 3",
   "language": "python",
   "name": "python3"
  },
  "language_info": {
   "codemirror_mode": {
    "name": "ipython",
    "version": 3
   },
   "file_extension": ".py",
   "mimetype": "text/x-python",
   "name": "python",
   "nbconvert_exporter": "python",
   "pygments_lexer": "ipython3",
   "version": "3.13.3"
  }
 },
 "nbformat": 4,
 "nbformat_minor": 2
}
