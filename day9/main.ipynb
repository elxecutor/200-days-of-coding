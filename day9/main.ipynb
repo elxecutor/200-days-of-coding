{
 "cells": [
  {
   "cell_type": "code",
   "execution_count": null,
   "metadata": {},
   "outputs": [
    {
     "name": "stdout",
     "output_type": "stream",
     "text": [
      "Outer x: 20\n",
      "Inner x: 30\n",
      "Global x: 10\n"
     ]
    }
   ],
   "source": [
    "x = 10 # Global scope\n",
    "\n",
    "def outer_function(): # outer_function scope\n",
    "    x = 20\n",
    "    print(\"Outer x:\", x)  # Accesses outer_function's x\n",
    "\n",
    "    def inner_function(): # inner_function scope\n",
    "        x = 30\n",
    "        print(\"Inner x:\", x)  # Accesses inner_function's x\n",
    "\n",
    "    inner_function()\n",
    "\n",
    "outer_function()\n",
    "print(\"Global x:\", x)  # Accesses global x"
   ]
  }
 ],
 "metadata": {
  "kernelspec": {
   "display_name": "Python 3",
   "language": "python",
   "name": "python3"
  },
  "language_info": {
   "codemirror_mode": {
    "name": "ipython",
    "version": 3
   },
   "file_extension": ".py",
   "mimetype": "text/x-python",
   "name": "python",
   "nbconvert_exporter": "python",
   "pygments_lexer": "ipython3",
   "version": "3.13.2"
  }
 },
 "nbformat": 4,
 "nbformat_minor": 2
}
