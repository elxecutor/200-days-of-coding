{
 "cells": [
  {
   "cell_type": "code",
   "execution_count": 1,
   "metadata": {},
   "outputs": [],
   "source": [
    "def find_root_bounds(x, power):\n",
    "    \"\"\"\n",
    "    Returns low, high such that low**power <= x and high**power > x\n",
    "    \"\"\"\n",
    "    low = min(-1, x)\n",
    "    high = max(1, x)\n",
    "    return low, high\n",
    "\n",
    "def bisection_solve(x, power, epsilon, low, high):\n",
    "    \"\"\"\n",
    "    Returns ans such that ans**power is within epsilon of x\n",
    "    \"\"\"\n",
    "    # Start with the midpoint of the interval [low, high]\n",
    "    ans = (high + low) / 2\n",
    "    # Continue until the difference between ans**power and x is less than epsilon\n",
    "    while abs(ans**power - x) >= epsilon:\n",
    "        # If ans**power is less than x, move the lower bound up\n",
    "        if ans**power < x:\n",
    "            low = ans\n",
    "        # Otherwise, move the upper bound down\n",
    "        else:\n",
    "            high = ans\n",
    "        # Recalculate the midpoint\n",
    "        ans = (high + low) / 2\n",
    "    return ans\n",
    "\n",
    "def find_root(x, power, epsilon):\n",
    "    \"\"\"\n",
    "    Returns a float such that y**power is within epsilon of x.\n",
    "    If such a float does not exist, it returns None.\n",
    "    \"\"\"\n",
    "    # If x is negative and power is even, return None (no real roots exist)\n",
    "    if x < 0 and power % 2 == 0:\n",
    "        return None  # Negative number has no even-powered roots\n",
    "    # Determine the bounds for the root\n",
    "    low, high = find_root_bounds(x, power)\n",
    "    # Use bisection to find the root within the specified tolerance\n",
    "    return bisection_solve(x, power, epsilon, low, high)"
   ]
  },
  {
   "cell_type": "code",
   "execution_count": 3,
   "metadata": {},
   "outputs": [
    {
     "name": "stdout",
     "output_type": "stream",
     "text": [
      "The 3-th root of 27 (within epsilon 1e-09) is approximately 3.000\n"
     ]
    }
   ],
   "source": [
    "# Example usage of find_root\n",
    "x = 27\n",
    "power = 3\n",
    "epsilon = 0.000000001\n",
    "\n",
    "root = find_root(x, power, epsilon)\n",
    "print(f\"The {power}-th root of {x} (within epsilon {epsilon}) is approximately {root:.3f}\")"
   ]
  }
 ],
 "metadata": {
  "kernelspec": {
   "display_name": "Python 3",
   "language": "python",
   "name": "python3"
  },
  "language_info": {
   "codemirror_mode": {
    "name": "ipython",
    "version": 3
   },
   "file_extension": ".py",
   "mimetype": "text/x-python",
   "name": "python",
   "nbconvert_exporter": "python",
   "pygments_lexer": "ipython3",
   "version": "3.13.2"
  }
 },
 "nbformat": 4,
 "nbformat_minor": 2
}
