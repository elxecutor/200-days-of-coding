{
 "cells": [
  {
   "cell_type": "code",
   "execution_count": null,
   "metadata": {},
   "outputs": [
    {
     "name": "stdout",
     "output_type": "stream",
     "text": [
      "iter.\txk\t\t\tf(xk)\t\t\tError\n",
      "1\t50.1250000000000000\t2487.5156250000000000\t0.995012468828\n",
      "2\t25.3118765586034904\t615.6910949179808767\t0.980295687834\n",
      "3\t13.1497776029512305\t147.9166510070778031\t0.924890087337\n",
      "4\t7.5254752203055890\t31.6327772914334560\t0.747368401064\n",
      "5\t5.4237622808967654\t4.4171972796784829\t0.387500932113\n",
      "6\t5.0165544193689424\t0.1658182424900687\t0.081172818530\n",
      "7\t5.0000273144451084\t0.0002731451971627\t0.003305402928\n",
      "8\t5.0000000000746079\t0.0000000007460770\t0.000005462874\n",
      "9\t5.0000000000000000\t0.0000000000000000\t0.000000000015\n",
      "Required accuracy achieved; Solution is convergent.\n"
     ]
    }
   ],
   "source": [
    "# Maximum number of iterations allowed\n",
    "N = 100000  \n",
    "\n",
    "# Tolerance for convergence; when error is below this, the method stops\n",
    "TOL = 1e-6  \n",
    "\n",
    "# Function f defined as f(x) = x^2 - k, where k is the number whose square root we are finding\n",
    "def fval(x, k):\n",
    "    return x**2 - k\n",
    "\n",
    "# Derivative of f(x) with respect to x, which is 2x\n",
    "def dfval(x):\n",
    "    return 2 * x\n",
    "\n",
    "# Prompt the user to enter the number to compute its square root\n",
    "k = float(input(\"Enter the number whose square root to: \"))\n",
    "\n",
    "# Prompt the user to enter an initial guess for the square root\n",
    "x0 = float(input(\"Enter the initial approximation: \"))\n",
    "\n",
    "# Print header for the output columns: iteration count, current approximation (xk),\n",
    "# function value at xk, and the relative error\n",
    "print(\"iter.\\txk\\t\\t\\tf(xk)\\t\\t\\tError\")\n",
    "\n",
    "xk = x0 # Initialize current approximation with the initial guess\n",
    "fxk = fval(xk, k) # Evaluate f at the current approximation\n",
    "\n",
    "# Apply Newton's method iteratively\n",
    "for iteration in range(1, N + 1):\n",
    "    xp = xk # Previous approximation becomes current approximation from last iteration\n",
    "    fxp = fxk # Function value at the previous approximation\n",
    "    dfxp = dfval(xp) # Derivative of f at the previous approximation\n",
    "\n",
    "    # Check if the derivative is zero to avoid division by zero error\n",
    "    if dfxp == 0:\n",
    "        print(\"Zero derivative encountered; cannot continue.\")\n",
    "        break\n",
    "\n",
    "    # Update the approximation using Newton's iteration formula:\n",
    "    # xk = x_previous - f(x_previous) / f'(x_previous)\n",
    "    xk = xp - (fxp / dfxp)\n",
    "    fxk = fval(xk, k)  # Evaluate the function at the new approximation\n",
    "\n",
    "    # Compute the relative error between current and previous approximations\n",
    "    err = abs(xk - xp) / abs(xk) if xk != 0 else float('inf')\n",
    "\n",
    "    # Display the iteration number, current approximation, f(xk) and error formatted\n",
    "    print(f\"{iteration}\\t{xk:.16f}\\t{fxk:.16f}\\t{err:.12f}\")\n",
    "\n",
    "    # Check if the error is below the tolerance. If yes, the solution has converged.\n",
    "    if err < TOL:\n",
    "        print(\"Required accuracy achieved; Solution is convergent.\")\n",
    "        break\n",
    "else:\n",
    "    # If the loop completes without convergence, notify the user that the maximum\n",
    "    # number of iterations has been exceeded.\n",
    "    print(\"The number of iterations exceeded the maximum limit.\")"
   ]
  }
 ],
 "metadata": {
  "kernelspec": {
   "display_name": "Python 3",
   "language": "python",
   "name": "python3"
  },
  "language_info": {
   "codemirror_mode": {
    "name": "ipython",
    "version": 3
   },
   "file_extension": ".py",
   "mimetype": "text/x-python",
   "name": "python",
   "nbconvert_exporter": "python",
   "pygments_lexer": "ipython3",
   "version": "3.13.2"
  }
 },
 "nbformat": 4,
 "nbformat_minor": 2
}
