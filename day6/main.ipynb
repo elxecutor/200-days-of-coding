{
  "cells": [
    {
      "cell_type": "markdown",
      "metadata": {},
      "source": [
        "# Functions, Data Types and Recursion"
      ]
    },
    {
      "cell_type": "code",
      "execution_count": 11,
      "metadata": {},
      "outputs": [
        {
          "name": "stdout",
          "output_type": "stream",
          "text": [
            "Sum of square root of 25 and cube root of -8 is close to 3.00030517578125\n"
          ]
        }
      ],
      "source": [
        "# Square and cube root example (before functions)\n",
        "x1 = 25\n",
        "epsilon = 0.01\n",
        "# Find square root of x1 using bisection search\n",
        "if x1 < 0:\n",
        "    print('Does not exist')  # Square root of negative numbers does not exist in real numbers\n",
        "else:\n",
        "    low = 0\n",
        "    high = max(1, x1)  # Define the search interval\n",
        "    ans = (high + low)/2  # Initial guess\n",
        "    while abs(ans**2 - x1) >= epsilon:  # Continue until the approximation is within epsilon\n",
        "        if ans**2 < x1:\n",
        "            low = ans  # Adjust the lower bound\n",
        "        else:\n",
        "            high = ans  # Adjust the upper bound\n",
        "        ans = (high + low)/2  # Update the guess\n",
        "x1_root = ans  # Store the result\n",
        "\n",
        "x2 = -8\n",
        "# Find cube root of x2 using bisection search\n",
        "if x2 < 0:\n",
        "    is_pos = False  # Handle negative numbers for cube roots\n",
        "    x2 = -x2  # Work with the absolute value\n",
        "else:\n",
        "    is_pos = True\n",
        "low = 0\n",
        "high = max(1, x2)  # Define the search interval\n",
        "ans = (high + low)/2  # Initial guess\n",
        "while abs(ans**3 - x2) >= epsilon:  # Continue until the approximation is within epsilon\n",
        "    if ans**3 < x2:\n",
        "        low = ans  # Adjust the lower bound\n",
        "    else:\n",
        "        high = ans  # Adjust the upper bound\n",
        "    ans = (high + low)/2  # Update the guess\n",
        "if is_pos:\n",
        "    x2_root = ans  # Store the result for positive numbers\n",
        "else:\n",
        "    x2_root = -ans  # Negate the result for negative numbers\n",
        "    x2 = -x2\n",
        "print('Sum of square root of', x1, 'and cube root of', x2,\n",
        "      'is close to', x1_root + x2_root)  # Print the sum of roots"
      ]
    },
    {
      "cell_type": "code",
      "execution_count": 1,
      "metadata": {},
      "outputs": [],
      "source": [
        "# Function examples\n",
        "def max_val(x, y):\n",
        "    # Return the maximum of two values\n",
        "    if x > y:\n",
        "        return x\n",
        "    else:\n",
        "        return y"
      ]
    },
    {
      "cell_type": "code",
      "execution_count": 2,
      "metadata": {},
      "outputs": [],
      "source": [
        "# Root finding function\n",
        "def find_root(x, power, epsilon):\n",
        "    \"\"\"Find the root of x to the given power within epsilon\"\"\"\n",
        "    if x < 0 and power%2 == 0:\n",
        "        return None  # Negative number has no even-powered roots\n",
        "    low = min(-1, x)  # Define the lower bound\n",
        "    high = max(1, x)  # Define the upper bound\n",
        "    # Use bisection search\n",
        "    ans = (high + low)/2  # Initial guess\n",
        "    while abs(ans**power - x) >= epsilon:  # Continue until the approximation is within epsilon\n",
        "        if ans**power < x:\n",
        "            low = ans  # Adjust the lower bound\n",
        "        else:\n",
        "            high = ans  # Adjust the upper bound\n",
        "        ans = (high + low)/2  # Update the guess\n",
        "    return ans  # Return the result"
      ]
    },
    {
      "cell_type": "code",
      "execution_count": 3,
      "metadata": {},
      "outputs": [],
      "source": [
        "# Test function\n",
        "def test_find_root(x_vals, powers, epsilons):\n",
        "    # Test the find_root function with multiple inputs\n",
        "    for x in x_vals:\n",
        "        for p in powers:\n",
        "            for e in epsilons:\n",
        "                result = find_root(x, p, e)\n",
        "                if result == None:\n",
        "                    val = 'No root exists'  # Handle cases where no root exists\n",
        "                else:\n",
        "                    val = 'Okay'\n",
        "                    if abs(result**p - x) > e:\n",
        "                        val = 'Bad'  # Check if the result is within epsilon\n",
        "                print(f'x = {x}, power = {p}, epsilon = {e}: {val}')"
      ]
    },
    {
      "cell_type": "code",
      "execution_count": 4,
      "metadata": {},
      "outputs": [
        {
          "name": "stdout",
          "output_type": "stream",
          "text": [
            "x = 0.25, power = 1, epsilon = 0.1: Okay\n",
            "x = 0.25, power = 1, epsilon = 0.001: Okay\n",
            "x = 0.25, power = 1, epsilon = 1: Okay\n",
            "x = 0.25, power = 2, epsilon = 0.1: Okay\n",
            "x = 0.25, power = 2, epsilon = 0.001: Okay\n",
            "x = 0.25, power = 2, epsilon = 1: Okay\n",
            "x = 0.25, power = 3, epsilon = 0.1: Okay\n",
            "x = 0.25, power = 3, epsilon = 0.001: Okay\n",
            "x = 0.25, power = 3, epsilon = 1: Okay\n",
            "x = 8, power = 1, epsilon = 0.1: Okay\n",
            "x = 8, power = 1, epsilon = 0.001: Okay\n",
            "x = 8, power = 1, epsilon = 1: Okay\n",
            "x = 8, power = 2, epsilon = 0.1: Okay\n",
            "x = 8, power = 2, epsilon = 0.001: Okay\n",
            "x = 8, power = 2, epsilon = 1: Okay\n",
            "x = 8, power = 3, epsilon = 0.1: Okay\n",
            "x = 8, power = 3, epsilon = 0.001: Okay\n",
            "x = 8, power = 3, epsilon = 1: Okay\n",
            "x = -8, power = 1, epsilon = 0.1: Okay\n",
            "x = -8, power = 1, epsilon = 0.001: Okay\n",
            "x = -8, power = 1, epsilon = 1: Okay\n",
            "x = -8, power = 2, epsilon = 0.1: No root exists\n",
            "x = -8, power = 2, epsilon = 0.001: No root exists\n",
            "x = -8, power = 2, epsilon = 1: No root exists\n",
            "x = -8, power = 3, epsilon = 0.1: Okay\n",
            "x = -8, power = 3, epsilon = 0.001: Okay\n",
            "x = -8, power = 3, epsilon = 1: Okay\n"
          ]
        }
      ],
      "source": [
        "# Test case\n",
        "x_vals = (0.25, 8, -8)  # Test values\n",
        "powers = (1, 2, 3)  # Powers to test\n",
        "epsilons = (0.1, 0.001, 1)  # Epsilon values to test\n",
        "test_find_root(x_vals, powers, epsilons)  # Run the test cases"
      ]
    },
    {
      "cell_type": "code",
      "execution_count": 5,
      "metadata": {},
      "outputs": [
        {
          "name": "stdout",
          "output_type": "stream",
          "text": [
            "4.999988555908203\n"
          ]
        }
      ],
      "source": [
        "e = 0.001  # Epsilon value\n",
        "print(find_root(25, 2, e) + find_root(-8, 3, e) + find_root(16, 4, e))  # Calculate and print the sum of roots"
      ]
    },
    {
      "cell_type": "code",
      "execution_count": 6,
      "metadata": {},
      "outputs": [],
      "source": [
        "# Modular version of find_root\n",
        "def find_root_bounds(x, power):\n",
        "    \"\"\"Return low, high such that low**power <= x and high**power >= x\"\"\"\n",
        "    low = min(-1, x)  # Define the lower bound\n",
        "    high = max(1, x)  # Define the upper bound\n",
        "    return low, high\n",
        "\n",
        "def bisection_solve(x, power, epsilon, low, high):\n",
        "    \"\"\"Returns ans such that ans**power is within epsilon of x\"\"\"\n",
        "    ans = (high + low)/2  # Initial guess\n",
        "    while abs(ans**power - x) >= epsilon:  # Continue until the approximation is within epsilon\n",
        "        if ans**power < x:\n",
        "            low = ans  # Adjust the lower bound\n",
        "        else:\n",
        "            high = ans  # Adjust the upper bound\n",
        "        ans = (high + low)/2  # Update the guess\n",
        "    return ans  # Return the result\n",
        "\n",
        "def find_root(x, power, epsilon):\n",
        "    # Wrapper function to find the root using modular components\n",
        "    if x < 0 and power%2 == 0:\n",
        "        return None  # Negative number has no even-powered roots\n",
        "    low, high = find_root_bounds(x, power)  # Get the bounds\n",
        "    return bisection_solve(x, power, epsilon, low, high)  # Solve using bisection"
      ]
    },
    {
      "cell_type": "code",
      "execution_count": 7,
      "metadata": {},
      "outputs": [],
      "source": [
        "# Factorial functions\n",
        "def fact_iter(n):\n",
        "    \"\"\"Iterative factorial\"\"\"\n",
        "    result = 1\n",
        "    for i in range(1, n+1):\n",
        "        result *= i  # Multiply each number from 1 to n\n",
        "    return result  # Return the result\n",
        "\n",
        "def fact_rec(n):\n",
        "    \"\"\"Recursive factorial\"\"\"\n",
        "    if n == 1:\n",
        "        return n  # Base case: factorial of 1 is 1\n",
        "    else:\n",
        "        return n*fact_rec(n - 1)  # Recursive case: n * factorial of (n-1)"
      ]
    },
    {
      "cell_type": "code",
      "execution_count": 8,
      "metadata": {},
      "outputs": [
        {
          "name": "stdout",
          "output_type": "stream",
          "text": [
            "fib of 0 = 1\n",
            "fib of 1 = 1\n",
            "fib of 2 = 2\n",
            "fib of 3 = 3\n",
            "fib of 4 = 5\n",
            "fib of 5 = 8\n"
          ]
        }
      ],
      "source": [
        "# Fibonacci function\n",
        "def fib(n):\n",
        "    \"\"\"Returns Fibonacci of n\"\"\"\n",
        "    if n == 0 or n == 1:\n",
        "        return 1  # Base cases: Fibonacci of 0 and 1 is 1\n",
        "    else:\n",
        "        return fib(n-1) + fib(n-2)  # Recursive case: sum of the two preceding numbers\n",
        "\n",
        "def test_fib(n):\n",
        "    # Test the Fibonacci function for values from 0 to n\n",
        "    for i in range(n+1):\n",
        "        print('fib of', i, '=', fib(i))\n",
        "\n",
        "test_fib(5)  # Test Fibonacci function up to 5"
      ]
    },
    {
      "cell_type": "code",
      "execution_count": 9,
      "metadata": {},
      "outputs": [
        {
          "name": "stdout",
          "output_type": "stream",
          "text": [
            "True\n",
            "False\n"
          ]
        }
      ],
      "source": [
        "# Palindrome checker\n",
        "def is_palindrome(s):\n",
        "    \"\"\"Returns True if s is a palindrome\"\"\"\n",
        "    def to_chars(s):\n",
        "        # Convert string to lowercase and remove non-alphabetic characters\n",
        "        s = s.lower()\n",
        "        letters = ''\n",
        "        for c in s:\n",
        "            if c in 'abcdefghijklmnopqrstuvwxyz':\n",
        "                letters = letters + c\n",
        "        return letters\n",
        "    \n",
        "    def is_pal(s):\n",
        "        # Check if the string is a palindrome recursively\n",
        "        if len(s) <= 1:\n",
        "            return True  # Base case: single character or empty string is a palindrome\n",
        "        else:\n",
        "            return s[0] == s[-1] and is_pal(s[1:-1])  # Check first and last characters, then recurse\n",
        "    \n",
        "    return is_pal(to_chars(s))  # Process the string and check if it's a palindrome\n",
        "\n",
        "print(is_palindrome('Able was I ere I saw Elba'))  # Test with a palindrome\n",
        "print(is_palindrome('Able was I ere I saw Atlanta'))  # Test with a non-palindrome"
      ]
    },
    {
      "cell_type": "code",
      "execution_count": 10,
      "metadata": {},
      "outputs": [
        {
          "name": "stdout",
          "output_type": "stream",
          "text": [
            "2.283333333333333\n"
          ]
        }
      ],
      "source": [
        "def harmonic_sum(n):\n",
        "    # Calculate the harmonic sum recursively\n",
        "    if n == 1:\n",
        "        return 1  # Base case: harmonic sum of 1 is 1\n",
        "    else:\n",
        "        return 1/n + harmonic_sum(n-1)  # Recursive case: 1/n + harmonic sum of (n-1)\n",
        "\n",
        "print(harmonic_sum(5))  # Test the harmonic sum function with n=5"
      ]
    }
  ],
  "metadata": {
    "kernelspec": {
      "display_name": "Python 3",
      "language": "python",
      "name": "python3"
    },
    "language_info": {
      "codemirror_mode": {
        "name": "ipython",
        "version": 3
      },
      "file_extension": ".py",
      "mimetype": "text/x-python",
      "name": "python",
      "nbconvert_exporter": "python",
      "pygments_lexer": "ipython3",
      "version": "3.13.2"
    }
  },
  "nbformat": 4,
  "nbformat_minor": 4
}
