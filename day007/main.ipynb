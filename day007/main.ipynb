{
  "cells": [
    {
      "cell_type": "markdown",
      "metadata": {},
      "source": [
        "# Functions, Data Types and Recursion"
      ]
    },
    {
      "cell_type": "code",
      "execution_count": 2,
      "metadata": {},
      "outputs": [],
      "source": [
        "# Root finding function\n",
        "def find_root(x, power, epsilon):\n",
        "    \"\"\"Find the root of x to the given power within epsilon\"\"\"\n",
        "    if x < 0 and power%2 == 0:\n",
        "        return None  # Negative number has no even-powered roots\n",
        "    low = min(-1, x)  # Define the lower bound\n",
        "    high = max(1, x)  # Define the upper bound\n",
        "    # Use bisection search\n",
        "    ans = (high + low)/2  # Initial guess\n",
        "    while abs(ans**power - x) >= epsilon:  # Continue until the approximation is within epsilon\n",
        "        if ans**power < x:\n",
        "            low = ans  # Adjust the lower bound\n",
        "        else:\n",
        "            high = ans  # Adjust the upper bound\n",
        "        ans = (high + low)/2  # Update the guess\n",
        "    return ans  # Return the result"
      ]
    },
    {
      "cell_type": "code",
      "execution_count": null,
      "metadata": {},
      "outputs": [],
      "source": [
        "def euclidean_distance(y1, y2):\n",
        "    \"\"\"Calculate the Euclidean distance between two points.\"\"\"\n",
        "    # Calculate the squared differences for each dimension\n",
        "    squared_differences = [(p1 - p2) ** 2 for p1, p2 in zip(y1, y2)]\n",
        "    # Sum the squared differences and take the square root to get the Euclidean distance\n",
        "    return sum(squared_differences) ** 0.5\n"
      ]
    }
  ],
  "metadata": {
    "kernelspec": {
      "display_name": "Python 3",
      "language": "python",
      "name": "python3"
    },
    "language_info": {
      "codemirror_mode": {
        "name": "ipython",
        "version": 3
      },
      "file_extension": ".py",
      "mimetype": "text/x-python",
      "name": "python",
      "nbconvert_exporter": "python",
      "pygments_lexer": "ipython3",
      "version": "3.13.2"
    }
  },
  "nbformat": 4,
  "nbformat_minor": 4
}
