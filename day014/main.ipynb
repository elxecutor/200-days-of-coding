{
 "cells": [
  {
   "cell_type": "code",
   "execution_count": 7,
   "metadata": {},
   "outputs": [
    {
     "name": "stdout",
     "output_type": "stream",
     "text": [
      "Square Root of 360999092224 using Bisection: 600832.0 (in 70 steps)\n",
      "Square Root of 360999092224 using Newton Raphson: 600832.0 (in 23 steps)\n"
     ]
    }
   ],
   "source": [
    "def sqrt_bisection(x, epsilon):\n",
    "    \"\"\"\n",
    "    Compute the square root of x using the bisection method.\n",
    "    Returns the approximation and the number of steps taken.\n",
    "    \"\"\"\n",
    "    if x < 0:\n",
    "        return None, None  # Square root for negative numbers is not defined for reals\n",
    "\n",
    "    low = 0\n",
    "    high = max(1, x)\n",
    "    steps = 0\n",
    "    while True:\n",
    "        steps += 1\n",
    "        mid = (low + high) / 2\n",
    "        if abs(mid**2 - x) < epsilon:\n",
    "            return mid, steps\n",
    "        if mid**2 < x:\n",
    "            low = mid\n",
    "        else:\n",
    "            high = mid\n",
    "\n",
    "def sqrt_newton(x, epsilon):\n",
    "    \"\"\"\n",
    "    Compute the square root of x using Newton Raphson method.\n",
    "    Returns the approximation and the number of steps taken.\n",
    "    \"\"\"\n",
    "    if x < 0:\n",
    "        return None, None  # Square root for negative numbers is not defined for reals\n",
    "    \n",
    "    # Use a decent initial guess\n",
    "    guess = x / 2 if x >= 1 else x\n",
    "    steps = 0\n",
    "    while True:\n",
    "        steps += 1\n",
    "        new_guess = guess - (guess**2 - x) / (2 * guess)\n",
    "        if abs(new_guess - guess) < epsilon:\n",
    "            return new_guess, steps\n",
    "        guess = new_guess\n",
    "\n",
    "def compare_methods(x, epsilon=1e-6):\n",
    "    \"\"\"\n",
    "    Compare the bisection and Newton Raphson methods for finding the square root of x.\n",
    "    Returns a dictionary with both approximations and number of steps taken.\n",
    "    \"\"\"\n",
    "    sqrt_bis, steps_bis = sqrt_bisection(x, epsilon)\n",
    "    sqrt_newt, steps_newt = sqrt_newton(x, epsilon)\n",
    "    return {\n",
    "        'Bisection': {'sqrt': sqrt_bis, 'steps': steps_bis},\n",
    "        'Newton': {'sqrt': sqrt_newt, 'steps': steps_newt}\n",
    "    }\n",
    "\n",
    "# Example usage:\n",
    "number = 360999092224\n",
    "\n",
    "results = compare_methods(number)\n",
    "print(f\"Square Root of {number} using Bisection: {results['Bisection']['sqrt']} (in {results['Bisection']['steps']} steps)\")\n",
    "print(f\"Square Root of {number} using Newton Raphson: {results['Newton']['sqrt']} (in {results['Newton']['steps']} steps)\")"
   ]
  }
 ],
 "metadata": {
  "kernelspec": {
   "display_name": "Python 3",
   "language": "python",
   "name": "python3"
  },
  "language_info": {
   "codemirror_mode": {
    "name": "ipython",
    "version": 3
   },
   "file_extension": ".py",
   "mimetype": "text/x-python",
   "name": "python",
   "nbconvert_exporter": "python",
   "pygments_lexer": "ipython3",
   "version": "3.13.2"
  }
 },
 "nbformat": 4,
 "nbformat_minor": 2
}
